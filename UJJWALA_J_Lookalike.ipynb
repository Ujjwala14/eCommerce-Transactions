{
 "cells": [
  {
   "cell_type": "code",
   "execution_count": 2,
   "metadata": {},
   "outputs": [],
   "source": [
    "# Importing necessary libraries\n",
    "import pandas as pd\n",
    "from sklearn.metrics.pairwise import cosine_similarity\n",
    "from sklearn.preprocessing import StandardScaler"
   ]
  },
  {
   "cell_type": "code",
   "execution_count": 3,
   "metadata": {},
   "outputs": [],
   "source": [
    "# Loading datasets\n",
    "customers_df = pd.read_csv(\"Customers.csv\")\n",
    "products_df = pd.read_csv(\"Products.csv\")\n",
    "transactions_df = pd.read_csv(\"Transactions.csv\")"
   ]
  },
  {
   "cell_type": "code",
   "execution_count": 4,
   "metadata": {},
   "outputs": [],
   "source": [
    "# Merge datasets\n",
    "merged_df = pd.merge(transactions_df, customers_df, on=\"CustomerID\", how=\"left\")\n",
    "merged_df = pd.merge(merged_df, products_df, on=\"ProductID\", how=\"left\")"
   ]
  },
  {
   "cell_type": "code",
   "execution_count": 5,
   "metadata": {},
   "outputs": [],
   "source": [
    "# Step 1: Create customer profiles\n",
    "customer_profiles = (\n",
    "    merged_df.groupby(\"CustomerID\")\n",
    "    .agg({\n",
    "        \"Quantity\": \"sum\",     # Total quantity purchased\n",
    "        \"Price_x\": \"mean\",       # Average price of products purchased\n",
    "        \"TotalValue\": \"sum\",   # Total spending\n",
    "    })\n",
    "    .reset_index()\n",
    ")"
   ]
  },
  {
   "cell_type": "code",
   "execution_count": 8,
   "metadata": {},
   "outputs": [],
   "source": [
    "# Step 2: Normalize the numerical features\n",
    "from sklearn.preprocessing import MinMaxScaler\n",
    "scaler = MinMaxScaler()\n",
    "scaled_features = scaler.fit_transform(customer_profiles[[\"Quantity\", \"Price_x\", \"TotalValue\"]])"
   ]
  },
  {
   "cell_type": "code",
   "execution_count": 9,
   "metadata": {},
   "outputs": [],
   "source": [
    "# Step 3: Calculate cosine similarity between customers\n",
    "similarity_matrix = cosine_similarity(scaled_features)"
   ]
  },
  {
   "cell_type": "code",
   "execution_count": 10,
   "metadata": {},
   "outputs": [],
   "source": [
    "# Step 4: Get the top 3 similar customers for the first 20 customers\n",
    "similarity_df = pd.DataFrame(similarity_matrix, index=customer_profiles[\"CustomerID\"], columns=customer_profiles[\"CustomerID\"])"
   ]
  },
  {
   "cell_type": "code",
   "execution_count": 11,
   "metadata": {},
   "outputs": [],
   "source": [
    "# Extract top 3 lookalikes for the first 20 customers\n",
    "lookalike_data = {}\n",
    "for customer_id in customer_profiles[\"CustomerID\"].iloc[:20]:\n",
    "    # Get similarity scores for all other customers\n",
    "    similar_customers = similarity_df[customer_id].sort_values(ascending=False).iloc[1:4]  # Exclude self\n",
    "    lookalike_data[customer_id] = list(zip(similar_customers.index, similar_customers.values))"
   ]
  },
  {
   "cell_type": "code",
   "execution_count": 12,
   "metadata": {},
   "outputs": [
    {
     "name": "stdout",
     "output_type": "stream",
     "text": [
      "   CustomerID                                         Lookalikes\n",
      "0       C0001  [(C0139, 0.9999868808961591), (C0193, 0.999809...\n",
      "1       C0002  [(C0029, 0.999916648063628), (C0019, 0.9995096...\n",
      "2       C0003  [(C0124, 0.9987683656419095), (C0038, 0.998712...\n",
      "3       C0004  [(C0017, 0.9998858943700686), (C0175, 0.999836...\n",
      "4       C0005  [(C0063, 0.9999854098992549), (C0007, 0.999790...\n",
      "5       C0006  [(C0023, 0.9999294373393113), (C0154, 0.999898...\n",
      "6       C0007  [(C0146, 0.9998578025228806), (C0005, 0.999790...\n",
      "7       C0008  [(C0084, 0.9995734861924988), (C0039, 0.999126...\n",
      "8       C0009  [(C0020, 0.9999934031283176), (C0080, 0.999900...\n",
      "9       C0010  [(C0121, 0.9989344823273082), (C0034, 0.995901...\n",
      "10      C0011  [(C0001, 0.9997949778407051), (C0139, 0.999781...\n",
      "11      C0012  [(C0093, 0.999985682642632), (C0018, 0.9999011...\n",
      "12      C0013  [(C0059, 0.9997341346587364), (C0021, 0.999696...\n",
      "13      C0014  [(C0128, 0.9995810323471414), (C0009, 0.998740...\n",
      "14      C0015  [(C0009, 0.9996227090777358), (C0020, 0.999522...\n",
      "15      C0016  [(C0040, 0.9999803478790835), (C0158, 0.999691...\n",
      "16      C0017  [(C0004, 0.9998858943700686), (C0084, 0.999837...\n",
      "17      C0018  [(C0012, 0.9999011239940065), (C0093, 0.999813...\n",
      "18      C0019  [(C0025, 0.9999670948250402), (C0088, 0.999571...\n",
      "19      C0020  [(C0009, 0.9999934031283176), (C0080, 0.999945...\n"
     ]
    }
   ],
   "source": [
    "# Step 5: Save results as Lookalike.csv\n",
    "lookalike_df = pd.DataFrame(\n",
    "    [(cust_id, lookalikes) for cust_id, lookalikes in lookalike_data.items()],\n",
    "    columns=[\"CustomerID\", \"Lookalikes\"]\n",
    ")\n",
    "lookalike_df.to_csv(\"Lookalike.csv\", index=False)\n",
    "\n",
    "# Display output\n",
    "print(lookalike_df)"
   ]
  },
  {
   "cell_type": "code",
   "execution_count": null,
   "metadata": {},
   "outputs": [],
   "source": []
  }
 ],
 "metadata": {
  "kernelspec": {
   "display_name": "ds1",
   "language": "python",
   "name": "python3"
  },
  "language_info": {
   "codemirror_mode": {
    "name": "ipython",
    "version": 3
   },
   "file_extension": ".py",
   "mimetype": "text/x-python",
   "name": "python",
   "nbconvert_exporter": "python",
   "pygments_lexer": "ipython3",
   "version": "3.11.10"
  }
 },
 "nbformat": 4,
 "nbformat_minor": 2
}
